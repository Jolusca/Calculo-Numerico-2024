{
  "cells": [
    {
      "cell_type": "markdown",
      "metadata": {
        "id": "hY03sQbJsNf_"
      },
      "source": [
        "Tema 1:\n",
        "\n",
        "Um foguete espacial, ao entrar na atmosfera, sofre deslocamentos d1, d2,..., dn em suas partes dadas pela\n",
        "solução do sistema de equações lineares Ad = f, onde A é a matriz das propriedades, d é o vetor das incógnitas\n",
        "e f é o vetor dos termos independentes (vetor constante). Caso o deslocamento de umas dessas partes passe de\n",
        "2 cm o foguete explode, causando prejuízo gigantesco. Os deslocamentos podem ser negativos ou positivos,\n",
        "dependendo da direção para onde ocorrem (dentro ou fora) e, por isso, **são considerados em módulo após os\n",
        "cálculos efetuados**.\n",
        "\n",
        "Uma das soluções possíveis para esse sistema é usar uma variação do método de fatoração\n",
        "LU onde, se A é uma matriz não singular e A = LU, então A pode ser reescrita como A = LDP, onde L é a\n",
        "mesma matriz triangular inferior do método convencional de fatoração LU, D é uma matriz diagonal e P é\n",
        "uma matriz triangular superior com diagonal unitária. Desenvolva, então, um sistema para calcular os\n",
        "deslocamentos d das partes de um foguete espacial considerado com todos os requisitos apresentados abaixo:\n",
        "\n",
        "###a) Implementar algoritmo para calcular todos os deslocamentos {d} pelo método de Fatoração LU normal.\n",
        "\n",
        "###b) Implementar algoritmo para calcular todos os deslocamentos {d} pelo método de Fatoração LDP então.\n",
        "\n",
        "###c) Calibrar o sistema desenvolvido usando, como valores padrões, a matriz [A] e o vetor {f} dados abaixo.\n",
        "\n",
        "###d) Fornecer um quadro resposta, para cada um dos métodos considerados, variando os valores de [A] e {f}.\n",
        "\n",
        "###e) Analisar o que vai acontecer com o foguete espacial dessa questão, para o sistema mencionado abaixo.\n",
        "\\\n",
        "[A] =\n",
        "\\begin{pmatrix}\n",
        "3  & -2 &  1  \\\\\n",
        "1  & -3 &  4  \\\\\n",
        "9  &  4 & -5\n",
        "\\end{pmatrix}\n",
        "\n",
        "\n",
        "{f}=\n",
        "\\begin{pmatrix}\n",
        "8\\\\\n",
        "6\\\\\n",
        "11\n",
        "\\end{pmatrix}\n",
        "Dados de entrada: n (número de deslocamentos), os termos de [A]nxn e os de {f}nx1.\n",
        "\n",
        "Dados de saída: valores de {d}nx1 que representam os n deslocamentos d1, d2,..., dn."
      ]
    },
    {
      "cell_type": "markdown",
      "metadata": {
        "id": "fI5livKI6BfH"
      },
      "source": [
        "###Definindo as matrizes e as bibliotecas"
      ]
    },
    {
      "cell_type": "code",
      "execution_count": 1,
      "metadata": {
        "id": "Mb9U_REUsCO3"
      },
      "outputs": [],
      "source": [
        "#bibliotecas\n",
        "import math\n",
        "import numpy as np"
      ]
    },
    {
      "cell_type": "code",
      "execution_count": 2,
      "metadata": {
        "id": "yWz04Hs6s09u"
      },
      "outputs": [],
      "source": [
        "A = np.array([[3, -2, 1],\n",
        "              [1, -3, 4],\n",
        "              [9, 4, -5]], dtype=float)\n",
        "B = np.array([[8],\n",
        "              [6],\n",
        "              [11]], dtype=float)\n",
        "#print(A[0][1]) = Matriz A [linha][coluna]"
      ]
    },
    {
      "cell_type": "markdown",
      "metadata": {
        "id": "1Y3AqLBzdGxP"
      },
      "source": [
        "###Transformando a Matriz em L e U e em L D P\n",
        "\n",
        "---\n",
        "\n",
        "\n"
      ]
    },
    {
      "cell_type": "code",
      "execution_count": 3,
      "metadata": {
        "id": "Rs8h3dgk5z1r"
      },
      "outputs": [],
      "source": [
        "def fatoracao_lu(matriz):\n",
        "  n = matriz.shape[0]\n",
        "  matrizUpper = matriz.astype(float) #copiando a matriz como float, essa será a U\n",
        "  matrizLower = np.eye(n) #inicializando a matriz Identidade com o mesmo tamanho. essa será a L\n",
        "\n",
        "  for i in range(n):\n",
        "    for j in range(i+1,n):\n",
        "      fator = matrizUpper[j][i] / matrizUpper[i][i] #calcula o fator multiplicativo\n",
        "      matrizLower[j][i] = fator #armazena o valor multiplicativo\n",
        "\n",
        "      for k in range(i,n):\n",
        "        matrizUpper[j][k] -= fator * matrizUpper[i][k]\n",
        "\n",
        "  return matrizLower, matrizUpper\n"
      ]
    },
    {
      "cell_type": "code",
      "execution_count": 4,
      "metadata": {
        "id": "iJblVreWc-DY"
      },
      "outputs": [],
      "source": [
        "def fatoracao_LDP(matriz):\n",
        "  n = matriz.shape[0]\n",
        "  matrizL, matrizU = fatoracao_lu(matriz)\n",
        "  matrizD = np.zeros((n,n))\n",
        "  matrizP = np.copy(matrizU)\n",
        "\n",
        "  for i in range(n):\n",
        "        if matrizU[i][i] == 0: #evitar divisões por zero\n",
        "            raise ValueError(f\"Divisão por zero na linha {i}\")\n",
        "\n",
        "        matrizD[i][i] = matrizU[i][i]  # diagonal principal somente\n",
        "        for j in range(i, n):\n",
        "            matrizP[i][j] = matrizU[i][j] / matrizD[i][i]  # diagonal principal igual a 1\n",
        "\n",
        "  return matrizL, matrizD, matrizP"
      ]
    },
    {
      "cell_type": "markdown",
      "metadata": {
        "id": "nPAiUSMVgCSE"
      },
      "source": [
        "#####Testando as fatorações"
      ]
    },
    {
      "cell_type": "code",
      "execution_count": 5,
      "metadata": {
        "colab": {
          "base_uri": "https://localhost:8080/"
        },
        "id": "0FjOCr7odHLf",
        "outputId": "38630432-b000-4af0-8951-fd1b2751fa67"
      },
      "outputs": [
        {
          "output_type": "stream",
          "name": "stdout",
          "text": [
            "Matriz L (Triangular Inferior):\n",
            "[[ 1.          0.          0.        ]\n",
            " [ 0.33333333  1.          0.        ]\n",
            " [ 3.         -4.28571429  1.        ]]\n",
            "\n",
            "Matriz U (Triangular Superior):\n",
            "[[ 3.         -2.          1.        ]\n",
            " [ 0.         -2.33333333  3.66666667]\n",
            " [ 0.          0.          7.71428571]]\n",
            "\n",
            "Matriz A refeita (L x U):\n",
            "[[ 3. -2.  1.]\n",
            " [ 1. -3.  4.]\n",
            " [ 9.  4. -5.]]\n",
            "\n",
            "Matriz A original:\n",
            "[[ 3. -2.  1.]\n",
            " [ 1. -3.  4.]\n",
            " [ 9.  4. -5.]]\n"
          ]
        }
      ],
      "source": [
        "#testando a fatoracao LU\n",
        "\n",
        "L, U = fatoracao_lu(A)\n",
        "\n",
        "# Multiplica L e U para verificar se o produto é igual a A\n",
        "A_reconstruida = np.dot(L, U)\n",
        "\n",
        "print(\"Matriz L (Triangular Inferior):\") # Exibe as matrizes e o resultado da verificação\n",
        "print(L)\n",
        "\n",
        "print(\"\\nMatriz U (Triangular Superior):\")\n",
        "print(U)\n",
        "\n",
        "print(\"\\nMatriz A refeita (L x U):\")\n",
        "print(A_reconstruida)\n",
        "\n",
        "print(\"\\nMatriz A original:\")\n",
        "print(A)"
      ]
    },
    {
      "cell_type": "code",
      "execution_count": 6,
      "metadata": {
        "colab": {
          "base_uri": "https://localhost:8080/"
        },
        "id": "hLkmXECePzRG",
        "outputId": "238e7fe7-df2f-4cfe-c244-92a6fb975720"
      },
      "outputs": [
        {
          "output_type": "stream",
          "name": "stdout",
          "text": [
            "matriz L\n",
            " [[ 1.          0.          0.        ]\n",
            " [ 0.33333333  1.          0.        ]\n",
            " [ 3.         -4.28571429  1.        ]]\n",
            "matriz D\n",
            " [[ 3.          0.          0.        ]\n",
            " [ 0.         -2.33333333  0.        ]\n",
            " [ 0.          0.          7.71428571]]\n",
            "matriz P\n",
            " [[ 1.         -0.66666667  0.33333333]\n",
            " [ 0.          1.         -1.57142857]\n",
            " [ 0.          0.          1.        ]]\n",
            "matriz reconstruída\n",
            " [[ 3. -2.  1.]\n",
            " [ 1. -3.  4.]\n",
            " [ 9.  4. -5.]]\n",
            "matriz original\n",
            " [[ 3. -2.  1.]\n",
            " [ 1. -3.  4.]\n",
            " [ 9.  4. -5.]]\n"
          ]
        }
      ],
      "source": [
        "#testando LDP\n",
        "\n",
        "testeL, testeD, testeP = fatoracao_LDP(A)\n",
        "\n",
        "LD = np.dot(testeL,testeD)\n",
        "LDP = np.dot(LD, testeP)\n",
        "\n",
        "\n",
        "print(\"matriz L\\n\", testeL)\n",
        "print(\"matriz D\\n\", testeD)\n",
        "print(\"matriz P\\n\", testeP)\n",
        "\n",
        "print(\"matriz reconstruída\\n\", LDP)\n",
        "\n",
        "print(\"matriz original\\n\", A)"
      ]
    },
    {
      "cell_type": "code",
      "source": [],
      "metadata": {
        "id": "SkrV1EAZWEoU"
      },
      "execution_count": null,
      "outputs": []
    },
    {
      "cell_type": "markdown",
      "metadata": {
        "id": "NLSnJfKZNtOk"
      },
      "source": [
        "###Resolvendo LDP e LU parte por parte\n"
      ]
    },
    {
      "cell_type": "code",
      "execution_count": 7,
      "metadata": {
        "id": "G8_XE8v2mXCE"
      },
      "outputs": [],
      "source": [
        "def substituicao_para_frente(L, b):\n",
        "    n = L.shape[0]\n",
        "    y = np.zeros(n)\n",
        "\n",
        "    for i in range(n):\n",
        "        soma = 0\n",
        "        for j in range(i):\n",
        "            soma += L[i, j] * y[j]\n",
        "        y[i] = b[i] - soma\n",
        "\n",
        "    return y"
      ]
    },
    {
      "cell_type": "code",
      "execution_count": 8,
      "metadata": {
        "id": "tHWKWbUuqfqs"
      },
      "outputs": [],
      "source": [
        "def substituicao_diagonal(D, y):\n",
        "    n = D.shape[0]\n",
        "    z = np.zeros(n)\n",
        "\n",
        "    for i in range(n):\n",
        "        z[i] = y[i] / D[i, i]  # D[i, i] é garantido ser um escalar\n",
        "\n",
        "    return z"
      ]
    },
    {
      "cell_type": "code",
      "execution_count": 9,
      "metadata": {
        "id": "0xDhE_Oeqkby"
      },
      "outputs": [],
      "source": [
        "def substituicao_para_tras(U, z):\n",
        "    n = U.shape[0]\n",
        "    x = np.zeros(n)\n",
        "\n",
        "    for i in reversed(range(n)):\n",
        "        soma = 0\n",
        "        for j in range(i+1, n):\n",
        "            soma += U[i, j] * x[j]\n",
        "        x[i] = (z[i] - soma) / U[i, i]\n",
        "\n",
        "    return x"
      ]
    },
    {
      "cell_type": "code",
      "execution_count": 10,
      "metadata": {
        "id": "3XGGJx4GnsPQ"
      },
      "outputs": [],
      "source": [
        "def resolver_LU(A, b):\n",
        "\n",
        "  #Fatorar a matriz A em L e U\n",
        "  matrizL, matrizU = fatoracao_lu(A)\n",
        "\n",
        "  # Passo 1: Ly = b => achar o vetor y\n",
        "  vetor_y = substituicao_para_frente(matrizL, b)\n",
        "\n",
        "  # Passo 2: Resolver Ux = z (substituição para trás)\n",
        "  vetor_solucao = substituicao_para_tras(matrizU, vetor_y)\n",
        "  return vetor_solucao"
      ]
    },
    {
      "cell_type": "code",
      "execution_count": 11,
      "metadata": {
        "id": "fTrcyRQnnOow"
      },
      "outputs": [],
      "source": [
        "def resolver_sistema_ldp(A, b):\n",
        "    # Separar A em L, D e P\n",
        "    L, D, U = fatoracao_LDP(A)\n",
        "\n",
        "    # Passo 1: Resolver Ly = b (substituição para frente)\n",
        "    y = substituicao_para_frente(L, b)\n",
        "\n",
        "    # Passo 2: Resolver Dz = y (substituição diagonal)\n",
        "    z = substituicao_diagonal(D, y)\n",
        "\n",
        "    # Passo 3: Resolver Ux = z (substituição para trás)\n",
        "    x = substituicao_para_tras(U, z)\n",
        "\n",
        "    return x"
      ]
    },
    {
      "cell_type": "markdown",
      "metadata": {
        "id": "hzWDAykcZl5k"
      },
      "source": [
        "###Recebendo uma matriz e um vetor qualquer"
      ]
    },
    {
      "cell_type": "code",
      "execution_count": 12,
      "metadata": {
        "id": "u_leTFTjUV6f"
      },
      "outputs": [],
      "source": [
        "def receberMatriz():\n",
        "  n = int(input(\"Digite a dimensão da matriz n x n:\"))\n",
        "  matrizInput = np.zeros((n,n))\n",
        "\n",
        "  for i in range(n):\n",
        "        for j in range(n):\n",
        "            matrizInput[i][j] = float(input(f\"Digite o elemento da posição ({i+1}, {j+1}): \"))\n",
        "\n",
        "  return matrizInput"
      ]
    },
    {
      "cell_type": "code",
      "execution_count": 13,
      "metadata": {
        "id": "Ug8pIHo93SaK"
      },
      "outputs": [],
      "source": [
        "def receberVetor():\n",
        "  n = int(input(\"Digite o tamanho do vetor (deve ser igual ao da matriz):\"))\n",
        "  vetor_dados = np.zeros(n)\n",
        "  for i in range(n):\n",
        "    vetor_dados[i] = float(input(f\"Digite o elemento da posição ({i+1})\"))\n",
        "\n",
        "  return vetor_dados"
      ]
    },
    {
      "cell_type": "markdown",
      "metadata": {
        "id": "tuVN78DSNX6Q"
      },
      "source": [
        "### Testes e aplicações\n"
      ]
    },
    {
      "cell_type": "markdown",
      "metadata": {
        "id": "Pbr47jTAdzyM"
      },
      "source": [
        "####Usando a função da biblioteca como parâmetro\n"
      ]
    },
    {
      "cell_type": "code",
      "execution_count": 14,
      "metadata": {
        "colab": {
          "base_uri": "https://localhost:8080/"
        },
        "id": "7MbceEXZkmWR",
        "outputId": "a934900f-ac9f-412e-d070-49fb75dcc87e"
      },
      "outputs": [
        {
          "output_type": "stream",
          "name": "stdout",
          "text": [
            "Solução x:\n",
            " [[[ 1.83333333]\n",
            "  [-1.16666667]\n",
            "  [ 0.16666667]]]\n"
          ]
        }
      ],
      "source": [
        "#resolvendo com a biblioteca para ter um parâmetro\n",
        "def solve_LU(L, U, B):\n",
        "\n",
        "\n",
        "    L = np.array([L], dtype=float)\n",
        "    U = np.array([U], dtype=float)\n",
        "    B = np.array([B], dtype=float)\n",
        "\n",
        "    y = np.linalg.solve (L, B)\n",
        "    x = np.linalg.solve (U, y)\n",
        "    return x\n",
        "\n",
        "x = solve_LU (L, U, B)\n",
        "\n",
        "print(\"Solução x:\\n\", x)"
      ]
    },
    {
      "cell_type": "markdown",
      "metadata": {
        "id": "vElUu0N6d8wQ"
      },
      "source": [
        "####Usando as funções implementadas"
      ]
    },
    {
      "cell_type": "markdown",
      "metadata": {
        "id": "4ZhaoZmenZUf"
      },
      "source": [
        "##### Para o A e B da questão"
      ]
    },
    {
      "cell_type": "code",
      "execution_count": 15,
      "metadata": {
        "colab": {
          "base_uri": "https://localhost:8080/"
        },
        "id": "GRYBtKsfqknq",
        "outputId": "bfb62d6e-3b6d-4c04-8ddb-9d45eb12411a"
      },
      "outputs": [
        {
          "output_type": "stream",
          "name": "stdout",
          "text": [
            "Solução para LDP:\n",
            "[ 1.83333333 -1.16666667  0.16666667]\n",
            "Solução para LU\n",
            "[ 1.83333333 -1.16666667  0.16666667]\n"
          ]
        },
        {
          "output_type": "stream",
          "name": "stderr",
          "text": [
            "<ipython-input-7-921c08dd5286>:9: DeprecationWarning: Conversion of an array with ndim > 0 to a scalar is deprecated, and will error in future. Ensure you extract a single element from your array before performing this operation. (Deprecated NumPy 1.25.)\n",
            "  y[i] = b[i] - soma\n"
          ]
        }
      ],
      "source": [
        "#resposta para LDP\n",
        "ldp = resolver_sistema_ldp(A, B)\n",
        "print(\"Solução para LDP:\")\n",
        "print(ldp)\n",
        "\n",
        "#resposta para LU\n",
        "LU = resolver_LU(A,B)\n",
        "print(\"Solução para LU\")\n",
        "print(LU)"
      ]
    },
    {
      "cell_type": "markdown",
      "metadata": {
        "id": "Wp6swIbErOuZ"
      },
      "source": [
        "#####Para A e B genéricos\n"
      ]
    },
    {
      "cell_type": "code",
      "execution_count": 16,
      "metadata": {
        "id": "sTn3lmkjrTDw",
        "colab": {
          "base_uri": "https://localhost:8080/"
        },
        "outputId": "e2f5745a-5f2d-4f6c-83be-b2a4c48bb073"
      },
      "outputs": [
        {
          "output_type": "stream",
          "name": "stdout",
          "text": [
            "Digite a dimensão da matriz n x n:3\n",
            "Digite o elemento da posição (1, 1): 5\n",
            "Digite o elemento da posição (1, 2): 3\n",
            "Digite o elemento da posição (1, 3): 1\n",
            "Digite o elemento da posição (2, 1): 5\n",
            "Digite o elemento da posição (2, 2): 6\n",
            "Digite o elemento da posição (2, 3): 1\n",
            "Digite o elemento da posição (3, 1): 1\n",
            "Digite o elemento da posição (3, 2): 6\n",
            "Digite o elemento da posição (3, 3): 7\n",
            "Digite o tamanho do vetor (deve ser igual ao da matriz):3\n",
            "Digite o elemento da posição (1)1\n",
            "Digite o elemento da posição (2)2\n",
            "Digite o elemento da posição (3)3\n",
            "Matriz inserida:\n",
            " [[5. 3. 1.]\n",
            " [5. 6. 1.]\n",
            " [1. 6. 7.]]\n",
            "Vetor inserido:\n",
            " [1. 2. 3.]\n",
            "Solução para LDP:\n",
            "[-0.02941176  0.33333333  0.14705882]\n",
            "Solução para LU\n",
            "[-0.02941176  0.33333333  0.14705882]\n"
          ]
        }
      ],
      "source": [
        "matrizGenerica = receberMatriz()\n",
        "vetorGererico = receberVetor()\n",
        "print(\"Matriz inserida:\\n\",  matrizGenerica)\n",
        "print(\"Vetor inserido:\\n\", vetorGererico)\n",
        "#resposta para LDP\n",
        "ldp = resolver_sistema_ldp(matrizGenerica, vetorGererico)\n",
        "print(\"Solução para LDP:\")\n",
        "print(ldp)\n",
        "\n",
        "#resposta para LU\n",
        "\n",
        "LU = resolver_LU(matrizGenerica,vetorGererico)\n",
        "print(\"Solução para LU\")\n",
        "print(LU)"
      ]
    }
  ],
  "metadata": {
    "colab": {
      "provenance": []
    },
    "kernelspec": {
      "display_name": "Python 3",
      "name": "python3"
    },
    "language_info": {
      "name": "python"
    }
  },
  "nbformat": 4,
  "nbformat_minor": 0
}