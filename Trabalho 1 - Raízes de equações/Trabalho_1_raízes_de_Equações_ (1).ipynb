{
  "cells": [
    {
      "cell_type": "markdown",
      "metadata": {
        "id": "ZbVJ4sqi5nHb"
      },
      "source": [
        "\n",
        "#1º Trabalho de cálculo numérico\n",
        "\n",
        "Tema1:\n",
        "O deslocamento da extremidade de um foguete espacial ao entrar na atmosfera da terra é dado pela equação\n",
        "\n",
        "**f(d) = a.d – d.ln(d)**,\n",
        "\n",
        "onde d é o deslocamento medido em cm e a é um parâmetro de ajuste para que se projete\n",
        "um foguete com a máxima segurança e eficiência possível. Caso esse deslocamento passe dos **2 cm** esse\n",
        "foguete irá explodir, causando sérios danos e um prejuízo gigantesco. Vários testes e simulações são feitos de\n",
        "modo a garantir que o foguete seja desenvolvido com toda segurança possível. Desenvolva um sistema para\n",
        "calcular esse deslocamento d da extremidade de um foguete espacial considerando todos os requisitos abaixo:\n",
        "####a) Implementar algoritmo para calcular d pelo método da Bisseção original.\n",
        "####b) Implementar algoritmo para calcular d pelo método da Posição Falsa.\n",
        "####c) Implementar algoritmo para calcular d pelo método de Newton-Raphson.\n",
        "####d) Testar os seus resultados usando como padrão a = 1, isolamento = (2,3) e e = 10^-5\n",
        "\n",
        "####e) Fornecer um quadro resposta, variando os valores de a para vários foguetes.\n",
        "####f) Fornecer um quadro comparativo, com isolamento, raízes e dados para cada método.\n",
        "####g) Analisar o efeito da variação do valor de a de cada foguete, para cada método dado.\n",
        "Dados de entrada: n (número de foguetes), a (de cada foguete) e e (precisão).\n",
        "Dados de saída: quadros resposta (com d e erro para cada foguete e método) e comparativo.\n",
        "\n",
        "\n",
        "\n"
      ]
    },
    {
      "cell_type": "code",
      "execution_count": null,
      "metadata": {
        "id": "pReqtZdTNz3G"
      },
      "outputs": [
        {
          "ename": "",
          "evalue": "",
          "output_type": "error",
          "traceback": [
            "\u001b[1;31mA execução de células com 'Python 3.12.4' requer o pacote ipykernel.\n",
            "\u001b[1;31mExecute o seguinte comando para instalar \"ipykernel\" no ambiente do Python. \n",
            "\u001b[1;31mComando: \"\"c:/Users/João Lucas/AppData/Local/Microsoft/WindowsApps/python3.12.exe\" -m pip install ipykernel -U --user --force-reinstall\""
          ]
        }
      ],
      "source": [
        "import numpy as np\n",
        "import matplotlib.pyplot as plt\n",
        "from  math import log"
      ]
    },
    {
      "cell_type": "code",
      "execution_count": null,
      "metadata": {
        "id": "Ywj4gPHb5rlj"
      },
      "outputs": [
        {
          "ename": "",
          "evalue": "",
          "output_type": "error",
          "traceback": [
            "\u001b[1;31mA execução de células com 'Python 3.11.9' requer o pacote ipykernel.\n",
            "\u001b[1;31mExecute o seguinte comando para instalar \"ipykernel\" no ambiente do Python. \n",
            "\u001b[1;31mComando: \"\"c:/Users/João Lucas/AppData/Local/Microsoft/WindowsApps/python3.11.exe\" -m pip install ipykernel -U --user --force-reinstall\""
          ]
        }
      ],
      "source": [
        "def bissecao(casas,a,b,ep,func,maxinter = 50):\n",
        "  if func(a) * func(b) < 0:\n",
        "    i = 0\n",
        "    xr = (a+b)/2\n",
        "    erro = abs(func(xr))\n",
        "    while i < maxinter and erro > ep:\n",
        "      # a e a xn estao em lados opostos\n",
        "      if func(a) * func(xr) < 0:\n",
        "        b = xr\n",
        "      # b e a xn estao em lados opostos\n",
        "      else:\n",
        "        a = xr\n",
        "      xr = round((a+b)/2, casas) #arredondar, ajustar o valor para o numero de casas\n",
        "      erro = abs(func(xr))\n",
        "      i+=1\n",
        "      if erro < ep:\n",
        "        return (xr, erro, i)\n",
        "    return (xr, erro, i)\n",
        "  else:\n",
        "    return('valores de a e b inválidos para bissecção')\n",
        "\n"
      ]
    },
    {
      "cell_type": "code",
      "execution_count": null,
      "metadata": {
        "id": "w_83Nqtmg_bw"
      },
      "outputs": [
        {
          "ename": "",
          "evalue": "",
          "output_type": "error",
          "traceback": [
            "\u001b[1;31mA execução de células com 'Python 3.11.9' requer o pacote ipykernel.\n",
            "\u001b[1;31mExecute o seguinte comando para instalar \"ipykernel\" no ambiente do Python. \n",
            "\u001b[1;31mComando: \"\"c:/Users/João Lucas/AppData/Local/Microsoft/WindowsApps/python3.11.exe\" -m pip install ipykernel -U --user --force-reinstall\""
          ]
        }
      ],
      "source": [
        "def falsa_posicao(casas,a,b,ep,func,maxinter = 50):\n",
        "  if func(a) * func(b) < 0:\n",
        "    xr = (a*func(b) - b*func(a)) / (func(b) - func(a))\n",
        "    i = 0\n",
        "    while i < maxinter:\n",
        "      if func(a) * func(xr) < 0:\n",
        "        b = xr\n",
        "      else:\n",
        "        a = xr\n",
        "      xnovo = (a*func(b) - b*func(a)) / (func(b) - func(a))\n",
        "      erro = abs((xnovo-xr)/xnovo)\n",
        "      i+=1\n",
        "      xr = round(xnovo, casas)#arredondar, ajustar o valor para o numero de casas\n",
        "      if erro < ep:\n",
        "        return (round(xr, casas), erro, i)\n",
        "\n",
        "    return (round(xr, casas), erro, i)\n",
        "\n",
        "  else:\n",
        "    return('valores inválidos de a e b para falsa posição')\n",
        "    #return 0"
      ]
    },
    {
      "cell_type": "code",
      "execution_count": null,
      "metadata": {
        "id": "Msu962-P31Q8"
      },
      "outputs": [
        {
          "ename": "",
          "evalue": "",
          "output_type": "error",
          "traceback": [
            "\u001b[1;31mA execução de células com 'Python 3.11.9' requer o pacote ipykernel.\n",
            "\u001b[1;31mExecute o seguinte comando para instalar \"ipykernel\" no ambiente do Python. \n",
            "\u001b[1;31mComando: \"\"c:/Users/João Lucas/AppData/Local/Microsoft/WindowsApps/python3.11.exe\" -m pip install ipykernel -U --user --force-reinstall\""
          ]
        }
      ],
      "source": [
        "def newton_raphson(casas, a, b, ep, func, funcd, maxinter = 50):\n",
        "  if func(a) * func(b) < 0:\n",
        "    i = 0\n",
        "    xr = (a+b)/2\n",
        "    #escolha do valor inicial a partir do intervalo dado, ao inves de uma escolha manual\n",
        "    erro = abs(func(xr))\n",
        "    while i < maxinter and erro > ep:\n",
        "      xr = xr - (func(xr)/funcd(xr))\n",
        "      i+=1\n",
        "      erro = abs(func(xr))\n",
        "      if erro < ep:\n",
        "        return (round(xr, casas), erro, i) #diminuição do número de atribuições\n",
        "\n",
        "    return (round(xr, casas), erro, i)\n",
        "\n",
        "  else:\n",
        "    return('valores inválidos de a e b para Newthon-Raphson')\n",
        "    #return 0\n",
        "\n"
      ]
    },
    {
      "cell_type": "code",
      "execution_count": null,
      "metadata": {
        "colab": {
          "base_uri": "https://localhost:8080/",
          "height": 581
        },
        "id": "ePVm0rluovyf",
        "outputId": "51354a62-fdd6-466b-bad4-ab1a87673af9"
      },
      "outputs": [
        {
          "ename": "",
          "evalue": "",
          "output_type": "error",
          "traceback": [
            "\u001b[1;31mA execução de células com 'Python 3.11.9' requer o pacote ipykernel.\n",
            "\u001b[1;31mExecute o seguinte comando para instalar \"ipykernel\" no ambiente do Python. \n",
            "\u001b[1;31mComando: \"\"c:/Users/João Lucas/AppData/Local/Microsoft/WindowsApps/python3.11.exe\" -m pip install ipykernel -U --user --force-reinstall\""
          ]
        }
      ],
      "source": [
        "# Definindo o valor de 'a'\n",
        "a = float(input('Defina o valor de a: '))\n",
        "# Definindo a função\n",
        "def funca(x):\n",
        "  return a*x - x*np.log(x)\n",
        "def funcder(x):\n",
        "  return a - np.log(x) - 1\n",
        "\n",
        "# Criando um intervalo de valores para x, ajuste os 2 primeiros parâmetros para incluir a raiz\n",
        "x_values = np.linspace(0.1, 50, 400)\n",
        "\n",
        "# Calculando os valores de y correspondentes\n",
        "y_values = funca(x_values)\n",
        "y_values2 = funcder(x_values)\n",
        "\n",
        "# Plotando o gráfico\n",
        "plt.figure(figsize=(15, 6))\n",
        "plt.plot(x_values, y_values, label=f'f(x) = {a}x - x ln(x)')\n",
        "plt.plot(x_values, y_values2, label=f'f´(x) = {a} - np.log(x) - 1')\n",
        "plt.title('Gráfico de f(x)')\n",
        "plt.xlabel('x')\n",
        "plt.ylabel('f(x)')\n",
        "plt.grid(True)\n",
        "plt.legend()\n",
        "plt.show()\n",
        "\n",
        "\n"
      ]
    },
    {
      "cell_type": "code",
      "execution_count": null,
      "metadata": {
        "colab": {
          "base_uri": "https://localhost:8080/"
        },
        "id": "Lxx9pIjaNhGl",
        "outputId": "a96eef94-a45c-43c1-9068-84414c5ebc88"
      },
      "outputs": [
        {
          "ename": "",
          "evalue": "",
          "output_type": "error",
          "traceback": [
            "\u001b[1;31mA execução de células com 'Python 3.11.9' requer o pacote ipykernel.\n",
            "\u001b[1;31mExecute o seguinte comando para instalar \"ipykernel\" no ambiente do Python. \n",
            "\u001b[1;31mComando: \"\"c:/Users/João Lucas/AppData/Local/Microsoft/WindowsApps/python3.11.exe\" -m pip install ipykernel -U --user --force-reinstall\""
          ]
        }
      ],
      "source": [
        "ep = 0.00001\n",
        "inferior = float(input('digite o valor inferior do intervalo: '))\n",
        "superior = float(input('digite o valor superior do intervalo: '))\n",
        "bisse = bissecao(5,inferior,superior,ep,funca) #especificar o numero de casas na primeira variável da função\n",
        "falsaPos = falsa_posicao(5,inferior,superior,ep,funca)\n",
        "NR = newton_raphson(5, inferior, superior, ep, funca, funcder)\n",
        "#print('Item a')\n",
        "if isinstance(bisse, str):\n",
        "  print('Valores inválidos')\n",
        "else:\n",
        "  print(f'Valor para o método da bissecção: {bisse[0]} com erro {bisse[1]} em {bisse[2]} iterações')\n",
        "  print(f'Valor para o método da falsa Posição: {falsaPos[0]} com erro {falsaPos[1]} em {falsaPos[2]} iterações')\n",
        "  print(f'Valor para o método de Newthon-Raphson: {NR[0]} com erro {NR[1]} em {NR[2]} iterações')"
      ]
    },
    {
      "cell_type": "markdown",
      "metadata": {
        "id": "O2wPw9TNj46R"
      },
      "source": []
    }
  ],
  "metadata": {
    "colab": {
      "provenance": []
    },
    "kernelspec": {
      "display_name": "Python 3",
      "name": "python3"
    },
    "language_info": {
      "name": "python",
      "version": "3.12.4"
    }
  },
  "nbformat": 4,
  "nbformat_minor": 0
}
