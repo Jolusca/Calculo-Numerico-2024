{
  "nbformat": 4,
  "nbformat_minor": 0,
  "metadata": {
    "colab": {
      "provenance": []
    },
    "kernelspec": {
      "name": "python3",
      "display_name": "Python 3"
    },
    "language_info": {
      "name": "python"
    }
  },
  "cells": [
    {
      "cell_type": "markdown",
      "source": [
        "\n",
        "#1º Trabalho de cálculo numérico\n",
        "\n",
        "Tema1:\n",
        "O deslocamento da extremidade de um foguete espacial ao entrar na atmosfera da terra é dado pela equação\n",
        "\n",
        "**f(d) = a.d – d.ln(d)**,\n",
        "\n",
        "onde d é o deslocamento medido em cm e a é um parâmetro de ajuste para que se projete\n",
        "um foguete com a máxima segurança e eficiência possível. Caso esse deslocamento passe dos **2 cm** esse\n",
        "foguete irá explodir, causando sérios danos e um prejuízo gigantesco. Vários testes e simulações são feitos de\n",
        "modo a garantir que o foguete seja desenvolvido com toda segurança possível. Desenvolva um sistema para\n",
        "calcular esse deslocamento d da extremidade de um foguete espacial considerando todos os requisitos abaixo:\n",
        "####a) Implementar algoritmo para calcular d pelo método da Bisseção original.\n",
        "####b) Implementar algoritmo para calcular d pelo método da Posição Falsa.\n",
        "####c) Implementar algoritmo para calcular d pelo método de Newton-Raphson.\n",
        "####d) Testar os seus resultados usando como padrão a = 1, isolamento = (2,3) e e = 10^-5\n",
        "\n",
        "####e) Fornecer um quadro resposta, variando os valores de a para vários foguetes.\n",
        "####f) Fornecer um quadro comparativo, com isolamento, raízes e dados para cada método.\n",
        "####g) Analisar o efeito da variação do valor de a de cada foguete, para cada método dado.\n",
        "Dados de entrada: n (número de foguetes), a (de cada foguete) e e (precisão).\n",
        "Dados de saída: quadros resposta (com d e erro para cada foguete e método) e comparativo.\n",
        "\n",
        "\n",
        "\n"
      ],
      "metadata": {
        "id": "ZbVJ4sqi5nHb"
      }
    },
    {
      "cell_type": "code",
      "source": [
        "import numpy as np\n",
        "import matplotlib.pyplot as plt\n",
        "from  math import log"
      ],
      "metadata": {
        "id": "pReqtZdTNz3G"
      },
      "execution_count": 1,
      "outputs": []
    },
    {
      "cell_type": "code",
      "source": [
        "def bissecao(casas,a,b,ep,func,maxinter = 50):\n",
        "  if func(a) * func(b) < 0:\n",
        "    i = 0\n",
        "    xr = (a+b)/2\n",
        "    erro = abs(func(xr))\n",
        "    while i < maxinter and erro > ep:\n",
        "      # a e a xn estao em lados opostos\n",
        "      if func(a) * func(xr) < 0:\n",
        "        b = xr\n",
        "      # b e a xn estao em lados opostos\n",
        "      else:\n",
        "        a = xr\n",
        "      xr = round((a+b)/2, casas) #arredondar, ajustar o valor para o numero de casas\n",
        "      erro = abs(func(xr))\n",
        "      i+=1\n",
        "      if erro < ep:\n",
        "        return (xr, erro, i)\n",
        "    return (xr, erro, i)\n",
        "  else:\n",
        "    return('valores de a e b inválidos para bissecção')\n",
        "\n"
      ],
      "metadata": {
        "id": "Ywj4gPHb5rlj"
      },
      "execution_count": 2,
      "outputs": []
    },
    {
      "cell_type": "code",
      "source": [
        "def falsa_posicao(casas,a,b,ep,func,maxinter = 50):\n",
        "  if func(a) * func(b) < 0:\n",
        "    xr = (a*func(b) - b*func(a)) / (func(b) - func(a))\n",
        "    i = 0\n",
        "    while i < maxinter:\n",
        "      if func(a) * func(xr) < 0:\n",
        "        b = xr\n",
        "      else:\n",
        "        a = xr\n",
        "      xnovo = (a*func(b) - b*func(a)) / (func(b) - func(a))\n",
        "      erro = abs((xnovo-xr)/xnovo)\n",
        "      i+=1\n",
        "      xr = round(xnovo, casas)#arredondar, ajustar o valor para o numero de casas\n",
        "      if erro < ep:\n",
        "        return (round(xr, casas), erro, i)\n",
        "\n",
        "    return (round(xr, casas), erro, i)\n",
        "\n",
        "  else:\n",
        "    return('valores inválidos de a e b para falsa posição')\n",
        "    #return 0"
      ],
      "metadata": {
        "id": "w_83Nqtmg_bw"
      },
      "execution_count": 3,
      "outputs": []
    },
    {
      "cell_type": "code",
      "source": [
        "def newton_raphson(casas, a, b, ep, func, funcd, maxinter = 50):\n",
        "  if func(a) * func(b) < 0:\n",
        "    i = 0\n",
        "    xr = (a+b)/2\n",
        "    #escolha do valor inicial a partir do intervalo dado, ao inves de uma escolha manual\n",
        "    erro = abs(func(xr))\n",
        "    while i < maxinter and erro > ep:\n",
        "      xr = xr - (func(xr)/funcd(xr))\n",
        "      i+=1\n",
        "      erro = abs(func(xr))\n",
        "      if erro < ep:\n",
        "        return (round(xr, casas), erro, i) #diminuição do número de atribuições\n",
        "\n",
        "    return (round(xr, casas), erro, i)\n",
        "\n",
        "  else:\n",
        "    return('valores inválidos de a e b para Newthon-Raphson')\n",
        "    #return 0\n",
        "\n"
      ],
      "metadata": {
        "id": "Msu962-P31Q8"
      },
      "execution_count": 4,
      "outputs": []
    },
    {
      "cell_type": "code",
      "source": [
        "# Definindo o valor de 'a'\n",
        "a = float(input('Defina o valor de a: '))\n",
        "# Definindo a função\n",
        "def funca(x):\n",
        "  return a*x - x*np.log(x)\n",
        "def funcder(x):\n",
        "  return a - np.log(x) - 1\n",
        "\n",
        "# Criando um intervalo de valores para x, ajuste os 2 primeiros parâmetros para incluir a raiz\n",
        "x_values = np.linspace(0.1, 50, 400)\n",
        "\n",
        "# Calculando os valores de y correspondentes\n",
        "y_values = funca(x_values)\n",
        "y_values2 = funcder(x_values)\n",
        "\n",
        "# Plotando o gráfico\n",
        "plt.figure(figsize=(15, 6))\n",
        "plt.plot(x_values, y_values, label=f'f(x) = {a}x - x ln(x)')\n",
        "plt.plot(x_values, y_values2, label=f'f´(x) = {a} - np.log(x) - 1')\n",
        "plt.title('Gráfico de f(x)')\n",
        "plt.xlabel('x')\n",
        "plt.ylabel('f(x)')\n",
        "plt.grid(True)\n",
        "plt.legend()\n",
        "plt.show()\n",
        "\n",
        "\n"
      ],
      "metadata": {
        "colab": {
          "base_uri": "https://localhost:8080/",
          "height": 356
        },
        "id": "ePVm0rluovyf",
        "outputId": "99a00a32-eefd-44a9-f2be-60793633eff6"
      },
      "execution_count": 5,
      "outputs": [
        {
          "output_type": "error",
          "ename": "KeyboardInterrupt",
          "evalue": "Interrupted by user",
          "traceback": [
            "\u001b[0;31m---------------------------------------------------------------------------\u001b[0m",
            "\u001b[0;31mKeyboardInterrupt\u001b[0m                         Traceback (most recent call last)",
            "\u001b[0;32m<ipython-input-5-4a8c1e29e66d>\u001b[0m in \u001b[0;36m<cell line: 2>\u001b[0;34m()\u001b[0m\n\u001b[1;32m      1\u001b[0m \u001b[0;31m# Definindo o valor de 'a'\u001b[0m\u001b[0;34m\u001b[0m\u001b[0;34m\u001b[0m\u001b[0m\n\u001b[0;32m----> 2\u001b[0;31m \u001b[0ma\u001b[0m \u001b[0;34m=\u001b[0m \u001b[0mfloat\u001b[0m\u001b[0;34m(\u001b[0m\u001b[0minput\u001b[0m\u001b[0;34m(\u001b[0m\u001b[0;34m'Defina o valor de a: '\u001b[0m\u001b[0;34m)\u001b[0m\u001b[0;34m)\u001b[0m\u001b[0;34m\u001b[0m\u001b[0;34m\u001b[0m\u001b[0m\n\u001b[0m\u001b[1;32m      3\u001b[0m \u001b[0;31m# Definindo a função\u001b[0m\u001b[0;34m\u001b[0m\u001b[0;34m\u001b[0m\u001b[0m\n\u001b[1;32m      4\u001b[0m \u001b[0;32mdef\u001b[0m \u001b[0mfunca\u001b[0m\u001b[0;34m(\u001b[0m\u001b[0mx\u001b[0m\u001b[0;34m)\u001b[0m\u001b[0;34m:\u001b[0m\u001b[0;34m\u001b[0m\u001b[0;34m\u001b[0m\u001b[0m\n\u001b[1;32m      5\u001b[0m   \u001b[0;32mreturn\u001b[0m \u001b[0ma\u001b[0m\u001b[0;34m*\u001b[0m\u001b[0mx\u001b[0m \u001b[0;34m-\u001b[0m \u001b[0mx\u001b[0m\u001b[0;34m*\u001b[0m\u001b[0mnp\u001b[0m\u001b[0;34m.\u001b[0m\u001b[0mlog\u001b[0m\u001b[0;34m(\u001b[0m\u001b[0mx\u001b[0m\u001b[0;34m)\u001b[0m\u001b[0;34m\u001b[0m\u001b[0;34m\u001b[0m\u001b[0m\n",
            "\u001b[0;32m/usr/local/lib/python3.10/dist-packages/ipykernel/kernelbase.py\u001b[0m in \u001b[0;36mraw_input\u001b[0;34m(self, prompt)\u001b[0m\n\u001b[1;32m    849\u001b[0m                 \u001b[0;34m\"raw_input was called, but this frontend does not support input requests.\"\u001b[0m\u001b[0;34m\u001b[0m\u001b[0;34m\u001b[0m\u001b[0m\n\u001b[1;32m    850\u001b[0m             )\n\u001b[0;32m--> 851\u001b[0;31m         return self._input_request(str(prompt),\n\u001b[0m\u001b[1;32m    852\u001b[0m             \u001b[0mself\u001b[0m\u001b[0;34m.\u001b[0m\u001b[0m_parent_ident\u001b[0m\u001b[0;34m,\u001b[0m\u001b[0;34m\u001b[0m\u001b[0;34m\u001b[0m\u001b[0m\n\u001b[1;32m    853\u001b[0m             \u001b[0mself\u001b[0m\u001b[0;34m.\u001b[0m\u001b[0m_parent_header\u001b[0m\u001b[0;34m,\u001b[0m\u001b[0;34m\u001b[0m\u001b[0;34m\u001b[0m\u001b[0m\n",
            "\u001b[0;32m/usr/local/lib/python3.10/dist-packages/ipykernel/kernelbase.py\u001b[0m in \u001b[0;36m_input_request\u001b[0;34m(self, prompt, ident, parent, password)\u001b[0m\n\u001b[1;32m    893\u001b[0m             \u001b[0;32mexcept\u001b[0m \u001b[0mKeyboardInterrupt\u001b[0m\u001b[0;34m:\u001b[0m\u001b[0;34m\u001b[0m\u001b[0;34m\u001b[0m\u001b[0m\n\u001b[1;32m    894\u001b[0m                 \u001b[0;31m# re-raise KeyboardInterrupt, to truncate traceback\u001b[0m\u001b[0;34m\u001b[0m\u001b[0;34m\u001b[0m\u001b[0m\n\u001b[0;32m--> 895\u001b[0;31m                 \u001b[0;32mraise\u001b[0m \u001b[0mKeyboardInterrupt\u001b[0m\u001b[0;34m(\u001b[0m\u001b[0;34m\"Interrupted by user\"\u001b[0m\u001b[0;34m)\u001b[0m \u001b[0;32mfrom\u001b[0m \u001b[0;32mNone\u001b[0m\u001b[0;34m\u001b[0m\u001b[0;34m\u001b[0m\u001b[0m\n\u001b[0m\u001b[1;32m    896\u001b[0m             \u001b[0;32mexcept\u001b[0m \u001b[0mException\u001b[0m \u001b[0;32mas\u001b[0m \u001b[0me\u001b[0m\u001b[0;34m:\u001b[0m\u001b[0;34m\u001b[0m\u001b[0;34m\u001b[0m\u001b[0m\n\u001b[1;32m    897\u001b[0m                 \u001b[0mself\u001b[0m\u001b[0;34m.\u001b[0m\u001b[0mlog\u001b[0m\u001b[0;34m.\u001b[0m\u001b[0mwarning\u001b[0m\u001b[0;34m(\u001b[0m\u001b[0;34m\"Invalid Message:\"\u001b[0m\u001b[0;34m,\u001b[0m \u001b[0mexc_info\u001b[0m\u001b[0;34m=\u001b[0m\u001b[0;32mTrue\u001b[0m\u001b[0;34m)\u001b[0m\u001b[0;34m\u001b[0m\u001b[0;34m\u001b[0m\u001b[0m\n",
            "\u001b[0;31mKeyboardInterrupt\u001b[0m: Interrupted by user"
          ]
        }
      ]
    },
    {
      "cell_type": "code",
      "source": [
        "#função main\n",
        "ep = 0.00001\n",
        "inferior = float(input('digite o valor inferior do intervalo: '))\n",
        "superior = float(input('digite o valor superior do intervalo: '))\n",
        "bisse = bissecao(5,inferior,superior,ep,funca) #especificar o numero de casas na primeira variável da função\n",
        "falsaPos = falsa_posicao(5,inferior,superior,ep,funca)\n",
        "NR = newton_raphson(5, inferior, superior, ep, funca, funcder)\n",
        "#print('Item a')\n",
        "if isinstance(bisse, str):\n",
        "  print('Valores inválidos')\n",
        "else:\n",
        "  print(f'Valor para o método da bissecção: {bisse[0]} com erro {bisse[1]} em {bisse[2]} iterações')\n",
        "  print(f'Valor para o método da falsa Posição: {falsaPos[0]} com erro {falsaPos[1]} em {falsaPos[2]} iterações')\n",
        "  print(f'Valor para o método de Newthon-Raphson: {NR[0]} com erro {NR[1]} em {NR[2]} iterações')"
      ],
      "metadata": {
        "id": "Lxx9pIjaNhGl"
      },
      "execution_count": null,
      "outputs": []
    },
    {
      "cell_type": "markdown",
      "source": [],
      "metadata": {
        "id": "O2wPw9TNj46R"
      }
    }
  ]
}